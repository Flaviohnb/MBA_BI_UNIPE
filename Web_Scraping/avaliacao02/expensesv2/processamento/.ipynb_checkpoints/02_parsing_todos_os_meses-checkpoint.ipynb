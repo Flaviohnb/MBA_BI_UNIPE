{
 "cells": [
  {
   "cell_type": "markdown",
   "metadata": {},
   "source": [
    "## Captura e Visualização de dados"
   ]
  },
  {
   "cell_type": "markdown",
   "metadata": {},
   "source": [
    "<b>Professor:</b> Diénert Vieira\n",
    "<b>Telefone:</b> (83) 9 8182-1479\n",
    "<b>Email:</b> dienertalencar@gmail.com"
   ]
  },
  {
   "cell_type": "markdown",
   "metadata": {},
   "source": [
    "### Segunda avaliação de aprendizagem"
   ]
  },
  {
   "cell_type": "markdown",
   "metadata": {},
   "source": [
    "Agora que você aprendeu a fazer o parsing de um único arquivo, desenvolva um mecanismo que permita realizar o parsing de todos os meses do ano de 2019. Dessa forma você poderá analisar uma maior volume de dados e reaproveitar o código que já foi desenvovido nas tarefas anteriores."
   ]
  },
  {
   "cell_type": "markdown",
   "metadata": {},
   "source": [
    "### Tarefa 02\n",
    "#### Aproveite o que já fez e faça o parsing de todos os meses de 2019"
   ]
  },
  {
   "cell_type": "markdown",
   "metadata": {},
   "source": [
    "Importar a biblioteca do framework scrapy"
   ]
  },
  {
   "cell_type": "code",
   "execution_count": 1,
   "metadata": {},
   "outputs": [],
   "source": [
    "import scrapy\n",
    "import xml.etree.ElementTree"
   ]
  },
  {
   "cell_type": "markdown",
   "metadata": {},
   "source": [
    "Copiar o método extrair_transacao do exercício anterior"
   ]
  },
  {
   "cell_type": "code",
   "execution_count": 2,
   "metadata": {},
   "outputs": [],
   "source": [
    "def extrair_transacao(transacao_selector, referencia):\n",
    "    data = transacao_selector.css('dtposted::text').extract_first() \n",
    "    descricao = transacao_selector.css('memo::text').extract_first()  \n",
    "    taxa = None\n",
    "    valor = transacao_selector.css('trnamt::text').extract_first()\n",
    "    return {'date': data[0:4]+'-'+data[4:6]+'-'+data[6:8],\n",
    "            'descricao': descricao,\n",
    "            'valor': valor if taxa is None else round(float(valor)*float(taxa), ndigits=2),\n",
    "            'referencia': referencia}"
   ]
  },
  {
   "cell_type": "markdown",
   "metadata": {},
   "source": [
    "Copiar o processamento anterior à chamada do extrair_transacao e colocar no método parse_xml para ser chamado para cada arquivo do diretório de extratos do cartão ou da conta corrente"
   ]
  },
  {
   "cell_type": "code",
   "execution_count": 3,
   "metadata": {},
   "outputs": [],
   "source": [
    "def parse_xml(path):\n",
    "    ofx = open(path)\n",
    "    text = ofx.readlines()\n",
    "    text = ' '.join(text)\n",
    "    selector = scrapy.selector.Selector(text=text)\n",
    "    transacoes = selector.css('stmttrn')\n",
    "    referencia = selector.css('dtasof::text').extract_first()\n",
    "    referencia = referencia[0:4]+'-'+referencia[4:6]+'-'+referencia[6:8] if referencia else None\n",
    "    return [extrair_transacao(transacao, referencia) for transacao in transacoes]"
   ]
  },
  {
   "cell_type": "code",
   "execution_count": 4,
   "metadata": {},
   "outputs": [],
   "source": [
    "lista = []"
   ]
  },
  {
   "cell_type": "code",
   "execution_count": 5,
   "metadata": {
    "scrolled": false
   },
   "outputs": [],
   "source": [
    "pathCartao = '../../'\n",
    "pathConta = '../../'"
   ]
  },
  {
   "cell_type": "code",
   "execution_count": 6,
   "metadata": {},
   "outputs": [],
   "source": [
    "import os"
   ]
  },
  {
   "cell_type": "code",
   "execution_count": 7,
   "metadata": {},
   "outputs": [
    {
     "data": {
      "text/plain": [
       "['2018-04.ofx',\n",
       " 'conta.ofx',\n",
       " 'expensesv2',\n",
       " 'JanFev2020.ofx',\n",
       " 'mes.json',\n",
       " 'teste.py',\n",
       " 'tudo.json']"
      ]
     },
     "execution_count": 7,
     "metadata": {},
     "output_type": "execute_result"
    }
   ],
   "source": [
    "os.listdir(pathCartao)"
   ]
  },
  {
   "cell_type": "code",
   "execution_count": 9,
   "metadata": {},
   "outputs": [
    {
     "name": "stdout",
     "output_type": "stream",
     "text": [
      "['JanFev2020.ofx']\n"
     ]
    }
   ],
   "source": [
    "filesCartao = [file for file in os.listdir(pathCartao) if 'Jan' in file or 'Fev' in file]\n",
    "filesCartao.sort()\n",
    "filesCartao\n",
    "print(filesCartao)\n",
    "#print(pathCartao+file)"
   ]
  },
  {
   "cell_type": "code",
   "execution_count": 10,
   "metadata": {
    "scrolled": true
   },
   "outputs": [],
   "source": [
    "for file in filesCartao:\n",
    "    lista.extend(parse_xml(pathCartao+file))"
   ]
  },
  {
   "cell_type": "code",
   "execution_count": 11,
   "metadata": {},
   "outputs": [
    {
     "data": {
      "text/plain": [
       "[{'date': '2020-01-27',\n",
       "  'descricao': 'COMPRA CARTAO MAESTRO              27/01 BRICKTOP.S CAFE\\n \\t\\t\\t\\t\\t\\t',\n",
       "  'valor': '-6.00\\n \\t\\t\\t\\t\\t\\t\\t',\n",
       "  'referencia': '2020-02-26'},\n",
       " {'date': '2020-01-27',\n",
       "  'descricao': 'COMPRA CARTAO MAESTRO              27/01 STUDIO CAFE TAM\\n \\t\\t\\t\\t\\t\\t',\n",
       "  'valor': '-13.50\\n \\t\\t\\t\\t\\t\\t\\t',\n",
       "  'referencia': '2020-02-26'},\n",
       " {'date': '2020-01-29',\n",
       "  'descricao': 'COMPRA CARTAO MAESTRO              29/01 GALERIA\\n \\t\\t\\t\\t\\t\\t',\n",
       "  'valor': '-17.64\\n \\t\\t\\t\\t\\t\\t\\t',\n",
       "  'referencia': '2020-02-26'},\n",
       " {'date': '2020-01-29',\n",
       "  'descricao': 'COMPRA CARTAO MAESTRO              29/01 STUDIO CAFE CON\\n \\t\\t\\t\\t\\t\\t',\n",
       "  'valor': '-6.00\\n \\t\\t\\t\\t\\t\\t\\t',\n",
       "  'referencia': '2020-02-26'},\n",
       " {'date': '2020-01-30',\n",
       "  'descricao': 'COMPRA CARTAO MAESTRO              30/01 REPUBLICA DO AC\\n \\t\\t\\t\\t\\t\\t',\n",
       "  'valor': '-17.81\\n \\t\\t\\t\\t\\t\\t\\t',\n",
       "  'referencia': '2020-02-26'},\n",
       " {'date': '2020-01-31',\n",
       "  'descricao': 'COMPRA CARTAO MAESTRO              31/01 MARE ALTA\\n \\t\\t\\t\\t\\t\\t',\n",
       "  'valor': '-23.00\\n \\t\\t\\t\\t\\t\\t\\t',\n",
       "  'referencia': '2020-02-26'},\n",
       " {'date': '2020-01-31',\n",
       "  'descricao': 'COMPRA CARTAO MAESTRO              31/01 STUDIO CAFE TAM\\n \\t\\t\\t\\t\\t\\t',\n",
       "  'valor': '-6.00\\n \\t\\t\\t\\t\\t\\t\\t',\n",
       "  'referencia': '2020-02-26'},\n",
       " {'date': '2020-01-31',\n",
       "  'descricao': 'COMPRA CARTAO MAESTRO              31/01 STUDIO CAFE TAM\\n \\t\\t\\t\\t\\t\\t',\n",
       "  'valor': '-11.50\\n \\t\\t\\t\\t\\t\\t\\t',\n",
       "  'referencia': '2020-02-26'},\n",
       " {'date': '2020-02-03',\n",
       "  'descricao': 'COMPRA CARTAO MAESTRO              03/02 BUSINESSFOOD\\n \\t\\t\\t\\t\\t\\t',\n",
       "  'valor': '-6.00\\n \\t\\t\\t\\t\\t\\t\\t',\n",
       "  'referencia': '2020-02-26'},\n",
       " {'date': '2020-02-03',\n",
       "  'descricao': 'COMPRA CARTAO MAESTRO              03/02 STUDIO CAFE TAM\\n \\t\\t\\t\\t\\t\\t',\n",
       "  'valor': '-9.00\\n \\t\\t\\t\\t\\t\\t\\t',\n",
       "  'referencia': '2020-02-26'},\n",
       " {'date': '2020-02-04',\n",
       "  'descricao': 'COMPRA CARTAO MAESTRO              04/02 BRICKTOPS CAFE\\n \\t\\t\\t\\t\\t\\t',\n",
       "  'valor': '-6.00\\n \\t\\t\\t\\t\\t\\t\\t',\n",
       "  'referencia': '2020-02-26'},\n",
       " {'date': '2020-02-05',\n",
       "  'descricao': 'COMPRA CARTAO MAESTRO              05/02 BRICKTOPS CAFE\\n \\t\\t\\t\\t\\t\\t',\n",
       "  'valor': '-6.00\\n \\t\\t\\t\\t\\t\\t\\t',\n",
       "  'referencia': '2020-02-26'},\n",
       " {'date': '2020-02-05',\n",
       "  'descricao': 'COMPRA CARTAO MAESTRO              05/02 STUDIO CAFE CON\\n \\t\\t\\t\\t\\t\\t',\n",
       "  'valor': '-3.00\\n \\t\\t\\t\\t\\t\\t\\t',\n",
       "  'referencia': '2020-02-26'},\n",
       " {'date': '2020-02-06',\n",
       "  'descricao': 'CREDITO DE SALARIO                 INDRA BRAS 01645738000179\\n \\t\\t\\t\\t\\t\\t',\n",
       "  'valor': '2658.80\\n \\t\\t\\t\\t\\t\\t\\t',\n",
       "  'referencia': '2020-02-26'},\n",
       " {'date': '2020-02-06',\n",
       "  'descricao': 'COMPRA CARTAO MAESTRO              06/02 BUSINESSFOOD\\n \\t\\t\\t\\t\\t\\t',\n",
       "  'valor': '-6.00\\n \\t\\t\\t\\t\\t\\t\\t',\n",
       "  'referencia': '2020-02-26'},\n",
       " {'date': '2020-02-06',\n",
       "  'descricao': 'COMPRA CARTAO MAESTRO              06/02 POSTO NOVENTA E\\n \\t\\t\\t\\t\\t\\t',\n",
       "  'valor': '-210.58\\n \\t\\t\\t\\t\\t\\t\\t',\n",
       "  'referencia': '2020-02-26'},\n",
       " {'date': '2020-02-06',\n",
       "  'descricao': 'TED MESMA TITULARIDADE CIP         001-4996-000000098884\\n \\t\\t\\t\\t\\t\\t',\n",
       "  'valor': '-1500.00\\n \\t\\t\\t\\t\\t\\t\\t',\n",
       "  'referencia': '2020-02-26'},\n",
       " {'date': '2020-02-06',\n",
       "  'descricao': 'COMPRA CARTAO MAESTRO              06/02 BARBEARIA FLAVI\\n \\t\\t\\t\\t\\t\\t',\n",
       "  'valor': '-35.00\\n \\t\\t\\t\\t\\t\\t\\t',\n",
       "  'referencia': '2020-02-26'},\n",
       " {'date': '2020-02-07',\n",
       "  'descricao': 'TARIFA TEDELETRONICO               06/02/2020\\n \\t\\t\\t\\t\\t\\t',\n",
       "  'valor': '-8.24\\n \\t\\t\\t\\t\\t\\t\\t',\n",
       "  'referencia': '2020-02-26'},\n",
       " {'date': '2020-02-07',\n",
       "  'descricao': 'COMPRA CARTAO MAESTRO              07/02 ALL PARK JOAO P\\n \\t\\t\\t\\t\\t\\t',\n",
       "  'valor': '-100.00\\n \\t\\t\\t\\t\\t\\t\\t',\n",
       "  'referencia': '2020-02-26'},\n",
       " {'date': '2020-02-07',\n",
       "  'descricao': 'COMPRA CARTAO MAESTRO              07/02 GALERIA\\n \\t\\t\\t\\t\\t\\t',\n",
       "  'valor': '-24.11\\n \\t\\t\\t\\t\\t\\t\\t',\n",
       "  'referencia': '2020-02-26'},\n",
       " {'date': '2020-02-07',\n",
       "  'descricao': 'COMPRA CARTAO MAESTRO              07/02 IPE\\n \\t\\t\\t\\t\\t\\t',\n",
       "  'valor': '-330.40\\n \\t\\t\\t\\t\\t\\t\\t',\n",
       "  'referencia': '2020-02-26'},\n",
       " {'date': '2020-02-07',\n",
       "  'descricao': 'COMPRA CARTAO MAESTRO              07/02 SUBWAY\\n \\t\\t\\t\\t\\t\\t',\n",
       "  'valor': '-13.50\\n \\t\\t\\t\\t\\t\\t\\t',\n",
       "  'referencia': '2020-02-26'},\n",
       " {'date': '2020-02-07',\n",
       "  'descricao': 'REMUNERACAO CONTAMAX CDB DI\\n \\t\\t\\t\\t\\t\\t',\n",
       "  'valor': '0.20\\n \\t\\t\\t\\t\\t\\t\\t',\n",
       "  'referencia': '2020-02-26'},\n",
       " {'date': '2020-02-10',\n",
       "  'descricao': 'COMPRA CARTAO MAESTRO              08/02 NOVO ORIENTE\\n \\t\\t\\t\\t\\t\\t',\n",
       "  'valor': '-16.87\\n \\t\\t\\t\\t\\t\\t\\t',\n",
       "  'referencia': '2020-02-26'},\n",
       " {'date': '2020-02-10',\n",
       "  'descricao': 'COMPRA CARTAO MAESTRO              08/02 STELO S A.Dulce\\n \\t\\t\\t\\t\\t\\t',\n",
       "  'valor': '-3.50\\n \\t\\t\\t\\t\\t\\t\\t',\n",
       "  'referencia': '2020-02-26'},\n",
       " {'date': '2020-02-10',\n",
       "  'descricao': 'COMPRA CARTAO MAESTRO              09/02 BOBS DRIVE BANC\\n \\t\\t\\t\\t\\t\\t',\n",
       "  'valor': '-17.50\\n \\t\\t\\t\\t\\t\\t\\t',\n",
       "  'referencia': '2020-02-26'},\n",
       " {'date': '2020-02-10',\n",
       "  'descricao': 'TARIFA MENSALIDADE PACOTE SERVICOS  JANEIRO / 2020\\n \\t\\t\\t\\t\\t\\t',\n",
       "  'valor': '-8.20\\n \\t\\t\\t\\t\\t\\t\\t',\n",
       "  'referencia': '2020-02-26'},\n",
       " {'date': '2020-02-10',\n",
       "  'descricao': 'PAGAMENTO CARTAO CREDITO BCE       10/02 08:14 CARTAO MASTER\\n \\t\\t\\t\\t\\t\\t',\n",
       "  'valor': '-170.06\\n \\t\\t\\t\\t\\t\\t\\t',\n",
       "  'referencia': '2020-02-26'},\n",
       " {'date': '2020-02-12',\n",
       "  'descricao': 'COMPRA CARTAO MAESTRO              12/02 BRICKTOPS CAFE\\n \\t\\t\\t\\t\\t\\t',\n",
       "  'valor': '-6.00\\n \\t\\t\\t\\t\\t\\t\\t',\n",
       "  'referencia': '2020-02-26'},\n",
       " {'date': '2020-02-12',\n",
       "  'descricao': 'COMPRA CARTAO MAESTRO              12/02 SUBWAY\\n \\t\\t\\t\\t\\t\\t',\n",
       "  'valor': '-21.00\\n \\t\\t\\t\\t\\t\\t\\t',\n",
       "  'referencia': '2020-02-26'},\n",
       " {'date': '2020-02-12',\n",
       "  'descricao': 'COMPRA CARTAO MAESTRO              12/02 EMP BARNABE MAN\\n \\t\\t\\t\\t\\t\\t',\n",
       "  'valor': '-14.90\\n \\t\\t\\t\\t\\t\\t\\t',\n",
       "  'referencia': '2020-02-26'},\n",
       " {'date': '2020-02-13',\n",
       "  'descricao': 'COMPRA CARTAO MAESTRO              13/02 STUDIO CAFE CON\\n \\t\\t\\t\\t\\t\\t',\n",
       "  'valor': '-2.50\\n \\t\\t\\t\\t\\t\\t\\t',\n",
       "  'referencia': '2020-02-26'},\n",
       " {'date': '2020-02-14',\n",
       "  'descricao': 'COMPRA CARTAO MAESTRO              14/02 NHOLANDA BURGER\\n \\t\\t\\t\\t\\t\\t',\n",
       "  'valor': '-20.00\\n \\t\\t\\t\\t\\t\\t\\t',\n",
       "  'referencia': '2020-02-26'},\n",
       " {'date': '2020-02-14',\n",
       "  'descricao': 'COMPRA CARTAO MAESTRO              14/02 STELO S A.Dulce\\n \\t\\t\\t\\t\\t\\t',\n",
       "  'valor': '-3.50\\n \\t\\t\\t\\t\\t\\t\\t',\n",
       "  'referencia': '2020-02-26'},\n",
       " {'date': '2020-02-17',\n",
       "  'descricao': 'COMPRA CARTAO MAESTRO              15/02 STELO S A.Dulce\\n \\t\\t\\t\\t\\t\\t',\n",
       "  'valor': '-3.00\\n \\t\\t\\t\\t\\t\\t\\t',\n",
       "  'referencia': '2020-02-26'},\n",
       " {'date': '2020-02-18',\n",
       "  'descricao': 'TRANSFERENCIA ENTRE CONTAS         ALISSON ALCOFORADO SENA D\\n \\t\\t\\t\\t\\t\\t',\n",
       "  'valor': '27.90\\n \\t\\t\\t\\t\\t\\t\\t',\n",
       "  'referencia': '2020-02-26'},\n",
       " {'date': '2020-02-18',\n",
       "  'descricao': 'COMPRA CARTAO MAESTRO              18/02 DOCE ACAI\\n \\t\\t\\t\\t\\t\\t',\n",
       "  'valor': '-14.12\\n \\t\\t\\t\\t\\t\\t\\t',\n",
       "  'referencia': '2020-02-26'},\n",
       " {'date': '2020-02-19',\n",
       "  'descricao': 'COMPRA CARTAO MAESTRO              19/02 STUDIO CAFE CON\\n \\t\\t\\t\\t\\t\\t',\n",
       "  'valor': '-7.50\\n \\t\\t\\t\\t\\t\\t\\t',\n",
       "  'referencia': '2020-02-26'},\n",
       " {'date': '2020-02-20',\n",
       "  'descricao': 'COMPRA CARTAO MAESTRO              20/02 BUSINESSFOOD\\n \\t\\t\\t\\t\\t\\t',\n",
       "  'valor': '-12.00\\n \\t\\t\\t\\t\\t\\t\\t',\n",
       "  'referencia': '2020-02-26'},\n",
       " {'date': '2020-02-26',\n",
       "  'descricao': 'COMPRA CARTAO MAESTRO              23/02 PORTAL ADMINIST\\n \\t\\t\\t\\t\\t\\t',\n",
       "  'valor': '-6.00\\n \\t\\t\\t\\t\\t\\t\\t',\n",
       "  'referencia': '2020-02-26'},\n",
       " {'date': '2020-02-26',\n",
       "  'descricao': 'COMPRA CARTAO MAESTRO              24/02 GIRAFFAS MAG SH\\n \\t\\t\\t\\t\\t\\t',\n",
       "  'valor': '-22.90\\n \\t\\t\\t\\t\\t\\t\\t',\n",
       "  'referencia': '2020-02-26'},\n",
       " {'date': '2020-02-26',\n",
       "  'descricao': 'COMPRA CARTAO MAESTRO              24/02 LOJAS AMERICANA\\n \\t\\t\\t\\t\\t\\t',\n",
       "  'valor': '-9.99\\n \\t\\t\\t\\t\\t\\t\\t',\n",
       "  'referencia': '2020-02-26'},\n",
       " {'date': '2020-02-26',\n",
       "  'descricao': 'COMPRA CARTAO MAESTRO              24/02 MAG ADMINISTRAC\\n \\t\\t\\t\\t\\t\\t',\n",
       "  'valor': '-5.00\\n \\t\\t\\t\\t\\t\\t\\t',\n",
       "  'referencia': '2020-02-26'},\n",
       " {'date': '2020-02-26',\n",
       "  'descricao': 'COMPRA CARTAO MAESTRO              24/02 PANIFICADORA LA\\n \\t\\t\\t\\t\\t\\t',\n",
       "  'valor': '-6.46\\n \\t\\t\\t\\t\\t\\t\\t',\n",
       "  'referencia': '2020-02-26'},\n",
       " {'date': '2020-02-26',\n",
       "  'descricao': 'COMPRA CARTAO MAESTRO              26/02 JP JD CID UNIV\\n \\t\\t\\t\\t\\t\\t',\n",
       "  'valor': '-23.08\\n \\t\\t\\t\\t\\t\\t\\t',\n",
       "  'referencia': '2020-02-26'},\n",
       " {'date': '2020-02-26',\n",
       "  'descricao': 'COMPRA CARTAO MAESTRO              26/02 PANIFICADORA LA\\n \\t\\t\\t\\t\\t\\t',\n",
       "  'valor': '-11.20\\n \\t\\t\\t\\t\\t\\t\\t',\n",
       "  'referencia': '2020-02-26'}]"
      ]
     },
     "execution_count": 11,
     "metadata": {},
     "output_type": "execute_result"
    }
   ],
   "source": [
    "lista"
   ]
  },
  {
   "cell_type": "code",
   "execution_count": 12,
   "metadata": {},
   "outputs": [
    {
     "data": {
      "text/plain": [
       "['conta.ofx']"
      ]
     },
     "execution_count": 12,
     "metadata": {},
     "output_type": "execute_result"
    }
   ],
   "source": [
    "filesConta = [file for file in os.listdir(pathConta) if 'conta' in file]\n",
    "filesConta"
   ]
  },
  {
   "cell_type": "code",
   "execution_count": 13,
   "metadata": {},
   "outputs": [],
   "source": [
    "for file in filesConta:\n",
    "    lista.extend(parse_xml(pathConta+file))"
   ]
  },
  {
   "cell_type": "code",
   "execution_count": 14,
   "metadata": {},
   "outputs": [
    {
     "data": {
      "text/plain": [
       "[{'date': '2020-01-27',\n",
       "  'descricao': 'COMPRA CARTAO MAESTRO              27/01 BRICKTOP.S CAFE\\n \\t\\t\\t\\t\\t\\t',\n",
       "  'valor': '-6.00\\n \\t\\t\\t\\t\\t\\t\\t',\n",
       "  'referencia': '2020-02-26'},\n",
       " {'date': '2020-01-27',\n",
       "  'descricao': 'COMPRA CARTAO MAESTRO              27/01 STUDIO CAFE TAM\\n \\t\\t\\t\\t\\t\\t',\n",
       "  'valor': '-13.50\\n \\t\\t\\t\\t\\t\\t\\t',\n",
       "  'referencia': '2020-02-26'},\n",
       " {'date': '2020-01-29',\n",
       "  'descricao': 'COMPRA CARTAO MAESTRO              29/01 GALERIA\\n \\t\\t\\t\\t\\t\\t',\n",
       "  'valor': '-17.64\\n \\t\\t\\t\\t\\t\\t\\t',\n",
       "  'referencia': '2020-02-26'},\n",
       " {'date': '2020-01-29',\n",
       "  'descricao': 'COMPRA CARTAO MAESTRO              29/01 STUDIO CAFE CON\\n \\t\\t\\t\\t\\t\\t',\n",
       "  'valor': '-6.00\\n \\t\\t\\t\\t\\t\\t\\t',\n",
       "  'referencia': '2020-02-26'},\n",
       " {'date': '2020-01-30',\n",
       "  'descricao': 'COMPRA CARTAO MAESTRO              30/01 REPUBLICA DO AC\\n \\t\\t\\t\\t\\t\\t',\n",
       "  'valor': '-17.81\\n \\t\\t\\t\\t\\t\\t\\t',\n",
       "  'referencia': '2020-02-26'},\n",
       " {'date': '2020-01-31',\n",
       "  'descricao': 'COMPRA CARTAO MAESTRO              31/01 MARE ALTA\\n \\t\\t\\t\\t\\t\\t',\n",
       "  'valor': '-23.00\\n \\t\\t\\t\\t\\t\\t\\t',\n",
       "  'referencia': '2020-02-26'},\n",
       " {'date': '2020-01-31',\n",
       "  'descricao': 'COMPRA CARTAO MAESTRO              31/01 STUDIO CAFE TAM\\n \\t\\t\\t\\t\\t\\t',\n",
       "  'valor': '-6.00\\n \\t\\t\\t\\t\\t\\t\\t',\n",
       "  'referencia': '2020-02-26'},\n",
       " {'date': '2020-01-31',\n",
       "  'descricao': 'COMPRA CARTAO MAESTRO              31/01 STUDIO CAFE TAM\\n \\t\\t\\t\\t\\t\\t',\n",
       "  'valor': '-11.50\\n \\t\\t\\t\\t\\t\\t\\t',\n",
       "  'referencia': '2020-02-26'},\n",
       " {'date': '2020-02-03',\n",
       "  'descricao': 'COMPRA CARTAO MAESTRO              03/02 BUSINESSFOOD\\n \\t\\t\\t\\t\\t\\t',\n",
       "  'valor': '-6.00\\n \\t\\t\\t\\t\\t\\t\\t',\n",
       "  'referencia': '2020-02-26'},\n",
       " {'date': '2020-02-03',\n",
       "  'descricao': 'COMPRA CARTAO MAESTRO              03/02 STUDIO CAFE TAM\\n \\t\\t\\t\\t\\t\\t',\n",
       "  'valor': '-9.00\\n \\t\\t\\t\\t\\t\\t\\t',\n",
       "  'referencia': '2020-02-26'},\n",
       " {'date': '2020-02-04',\n",
       "  'descricao': 'COMPRA CARTAO MAESTRO              04/02 BRICKTOPS CAFE\\n \\t\\t\\t\\t\\t\\t',\n",
       "  'valor': '-6.00\\n \\t\\t\\t\\t\\t\\t\\t',\n",
       "  'referencia': '2020-02-26'},\n",
       " {'date': '2020-02-05',\n",
       "  'descricao': 'COMPRA CARTAO MAESTRO              05/02 BRICKTOPS CAFE\\n \\t\\t\\t\\t\\t\\t',\n",
       "  'valor': '-6.00\\n \\t\\t\\t\\t\\t\\t\\t',\n",
       "  'referencia': '2020-02-26'},\n",
       " {'date': '2020-02-05',\n",
       "  'descricao': 'COMPRA CARTAO MAESTRO              05/02 STUDIO CAFE CON\\n \\t\\t\\t\\t\\t\\t',\n",
       "  'valor': '-3.00\\n \\t\\t\\t\\t\\t\\t\\t',\n",
       "  'referencia': '2020-02-26'},\n",
       " {'date': '2020-02-06',\n",
       "  'descricao': 'CREDITO DE SALARIO                 INDRA BRAS 01645738000179\\n \\t\\t\\t\\t\\t\\t',\n",
       "  'valor': '2658.80\\n \\t\\t\\t\\t\\t\\t\\t',\n",
       "  'referencia': '2020-02-26'},\n",
       " {'date': '2020-02-06',\n",
       "  'descricao': 'COMPRA CARTAO MAESTRO              06/02 BUSINESSFOOD\\n \\t\\t\\t\\t\\t\\t',\n",
       "  'valor': '-6.00\\n \\t\\t\\t\\t\\t\\t\\t',\n",
       "  'referencia': '2020-02-26'},\n",
       " {'date': '2020-02-06',\n",
       "  'descricao': 'COMPRA CARTAO MAESTRO              06/02 POSTO NOVENTA E\\n \\t\\t\\t\\t\\t\\t',\n",
       "  'valor': '-210.58\\n \\t\\t\\t\\t\\t\\t\\t',\n",
       "  'referencia': '2020-02-26'},\n",
       " {'date': '2020-02-06',\n",
       "  'descricao': 'TED MESMA TITULARIDADE CIP         001-4996-000000098884\\n \\t\\t\\t\\t\\t\\t',\n",
       "  'valor': '-1500.00\\n \\t\\t\\t\\t\\t\\t\\t',\n",
       "  'referencia': '2020-02-26'},\n",
       " {'date': '2020-02-06',\n",
       "  'descricao': 'COMPRA CARTAO MAESTRO              06/02 BARBEARIA FLAVI\\n \\t\\t\\t\\t\\t\\t',\n",
       "  'valor': '-35.00\\n \\t\\t\\t\\t\\t\\t\\t',\n",
       "  'referencia': '2020-02-26'},\n",
       " {'date': '2020-02-07',\n",
       "  'descricao': 'TARIFA TEDELETRONICO               06/02/2020\\n \\t\\t\\t\\t\\t\\t',\n",
       "  'valor': '-8.24\\n \\t\\t\\t\\t\\t\\t\\t',\n",
       "  'referencia': '2020-02-26'},\n",
       " {'date': '2020-02-07',\n",
       "  'descricao': 'COMPRA CARTAO MAESTRO              07/02 ALL PARK JOAO P\\n \\t\\t\\t\\t\\t\\t',\n",
       "  'valor': '-100.00\\n \\t\\t\\t\\t\\t\\t\\t',\n",
       "  'referencia': '2020-02-26'},\n",
       " {'date': '2020-02-07',\n",
       "  'descricao': 'COMPRA CARTAO MAESTRO              07/02 GALERIA\\n \\t\\t\\t\\t\\t\\t',\n",
       "  'valor': '-24.11\\n \\t\\t\\t\\t\\t\\t\\t',\n",
       "  'referencia': '2020-02-26'},\n",
       " {'date': '2020-02-07',\n",
       "  'descricao': 'COMPRA CARTAO MAESTRO              07/02 IPE\\n \\t\\t\\t\\t\\t\\t',\n",
       "  'valor': '-330.40\\n \\t\\t\\t\\t\\t\\t\\t',\n",
       "  'referencia': '2020-02-26'},\n",
       " {'date': '2020-02-07',\n",
       "  'descricao': 'COMPRA CARTAO MAESTRO              07/02 SUBWAY\\n \\t\\t\\t\\t\\t\\t',\n",
       "  'valor': '-13.50\\n \\t\\t\\t\\t\\t\\t\\t',\n",
       "  'referencia': '2020-02-26'},\n",
       " {'date': '2020-02-07',\n",
       "  'descricao': 'REMUNERACAO CONTAMAX CDB DI\\n \\t\\t\\t\\t\\t\\t',\n",
       "  'valor': '0.20\\n \\t\\t\\t\\t\\t\\t\\t',\n",
       "  'referencia': '2020-02-26'},\n",
       " {'date': '2020-02-10',\n",
       "  'descricao': 'COMPRA CARTAO MAESTRO              08/02 NOVO ORIENTE\\n \\t\\t\\t\\t\\t\\t',\n",
       "  'valor': '-16.87\\n \\t\\t\\t\\t\\t\\t\\t',\n",
       "  'referencia': '2020-02-26'},\n",
       " {'date': '2020-02-10',\n",
       "  'descricao': 'COMPRA CARTAO MAESTRO              08/02 STELO S A.Dulce\\n \\t\\t\\t\\t\\t\\t',\n",
       "  'valor': '-3.50\\n \\t\\t\\t\\t\\t\\t\\t',\n",
       "  'referencia': '2020-02-26'},\n",
       " {'date': '2020-02-10',\n",
       "  'descricao': 'COMPRA CARTAO MAESTRO              09/02 BOBS DRIVE BANC\\n \\t\\t\\t\\t\\t\\t',\n",
       "  'valor': '-17.50\\n \\t\\t\\t\\t\\t\\t\\t',\n",
       "  'referencia': '2020-02-26'},\n",
       " {'date': '2020-02-10',\n",
       "  'descricao': 'TARIFA MENSALIDADE PACOTE SERVICOS  JANEIRO / 2020\\n \\t\\t\\t\\t\\t\\t',\n",
       "  'valor': '-8.20\\n \\t\\t\\t\\t\\t\\t\\t',\n",
       "  'referencia': '2020-02-26'},\n",
       " {'date': '2020-02-10',\n",
       "  'descricao': 'PAGAMENTO CARTAO CREDITO BCE       10/02 08:14 CARTAO MASTER\\n \\t\\t\\t\\t\\t\\t',\n",
       "  'valor': '-170.06\\n \\t\\t\\t\\t\\t\\t\\t',\n",
       "  'referencia': '2020-02-26'},\n",
       " {'date': '2020-02-12',\n",
       "  'descricao': 'COMPRA CARTAO MAESTRO              12/02 BRICKTOPS CAFE\\n \\t\\t\\t\\t\\t\\t',\n",
       "  'valor': '-6.00\\n \\t\\t\\t\\t\\t\\t\\t',\n",
       "  'referencia': '2020-02-26'},\n",
       " {'date': '2020-02-12',\n",
       "  'descricao': 'COMPRA CARTAO MAESTRO              12/02 SUBWAY\\n \\t\\t\\t\\t\\t\\t',\n",
       "  'valor': '-21.00\\n \\t\\t\\t\\t\\t\\t\\t',\n",
       "  'referencia': '2020-02-26'},\n",
       " {'date': '2020-02-12',\n",
       "  'descricao': 'COMPRA CARTAO MAESTRO              12/02 EMP BARNABE MAN\\n \\t\\t\\t\\t\\t\\t',\n",
       "  'valor': '-14.90\\n \\t\\t\\t\\t\\t\\t\\t',\n",
       "  'referencia': '2020-02-26'},\n",
       " {'date': '2020-02-13',\n",
       "  'descricao': 'COMPRA CARTAO MAESTRO              13/02 STUDIO CAFE CON\\n \\t\\t\\t\\t\\t\\t',\n",
       "  'valor': '-2.50\\n \\t\\t\\t\\t\\t\\t\\t',\n",
       "  'referencia': '2020-02-26'},\n",
       " {'date': '2020-02-14',\n",
       "  'descricao': 'COMPRA CARTAO MAESTRO              14/02 NHOLANDA BURGER\\n \\t\\t\\t\\t\\t\\t',\n",
       "  'valor': '-20.00\\n \\t\\t\\t\\t\\t\\t\\t',\n",
       "  'referencia': '2020-02-26'},\n",
       " {'date': '2020-02-14',\n",
       "  'descricao': 'COMPRA CARTAO MAESTRO              14/02 STELO S A.Dulce\\n \\t\\t\\t\\t\\t\\t',\n",
       "  'valor': '-3.50\\n \\t\\t\\t\\t\\t\\t\\t',\n",
       "  'referencia': '2020-02-26'},\n",
       " {'date': '2020-02-17',\n",
       "  'descricao': 'COMPRA CARTAO MAESTRO              15/02 STELO S A.Dulce\\n \\t\\t\\t\\t\\t\\t',\n",
       "  'valor': '-3.00\\n \\t\\t\\t\\t\\t\\t\\t',\n",
       "  'referencia': '2020-02-26'},\n",
       " {'date': '2020-02-18',\n",
       "  'descricao': 'TRANSFERENCIA ENTRE CONTAS         ALISSON ALCOFORADO SENA D\\n \\t\\t\\t\\t\\t\\t',\n",
       "  'valor': '27.90\\n \\t\\t\\t\\t\\t\\t\\t',\n",
       "  'referencia': '2020-02-26'},\n",
       " {'date': '2020-02-18',\n",
       "  'descricao': 'COMPRA CARTAO MAESTRO              18/02 DOCE ACAI\\n \\t\\t\\t\\t\\t\\t',\n",
       "  'valor': '-14.12\\n \\t\\t\\t\\t\\t\\t\\t',\n",
       "  'referencia': '2020-02-26'},\n",
       " {'date': '2020-02-19',\n",
       "  'descricao': 'COMPRA CARTAO MAESTRO              19/02 STUDIO CAFE CON\\n \\t\\t\\t\\t\\t\\t',\n",
       "  'valor': '-7.50\\n \\t\\t\\t\\t\\t\\t\\t',\n",
       "  'referencia': '2020-02-26'},\n",
       " {'date': '2020-02-20',\n",
       "  'descricao': 'COMPRA CARTAO MAESTRO              20/02 BUSINESSFOOD\\n \\t\\t\\t\\t\\t\\t',\n",
       "  'valor': '-12.00\\n \\t\\t\\t\\t\\t\\t\\t',\n",
       "  'referencia': '2020-02-26'},\n",
       " {'date': '2020-02-26',\n",
       "  'descricao': 'COMPRA CARTAO MAESTRO              23/02 PORTAL ADMINIST\\n \\t\\t\\t\\t\\t\\t',\n",
       "  'valor': '-6.00\\n \\t\\t\\t\\t\\t\\t\\t',\n",
       "  'referencia': '2020-02-26'},\n",
       " {'date': '2020-02-26',\n",
       "  'descricao': 'COMPRA CARTAO MAESTRO              24/02 GIRAFFAS MAG SH\\n \\t\\t\\t\\t\\t\\t',\n",
       "  'valor': '-22.90\\n \\t\\t\\t\\t\\t\\t\\t',\n",
       "  'referencia': '2020-02-26'},\n",
       " {'date': '2020-02-26',\n",
       "  'descricao': 'COMPRA CARTAO MAESTRO              24/02 LOJAS AMERICANA\\n \\t\\t\\t\\t\\t\\t',\n",
       "  'valor': '-9.99\\n \\t\\t\\t\\t\\t\\t\\t',\n",
       "  'referencia': '2020-02-26'},\n",
       " {'date': '2020-02-26',\n",
       "  'descricao': 'COMPRA CARTAO MAESTRO              24/02 MAG ADMINISTRAC\\n \\t\\t\\t\\t\\t\\t',\n",
       "  'valor': '-5.00\\n \\t\\t\\t\\t\\t\\t\\t',\n",
       "  'referencia': '2020-02-26'},\n",
       " {'date': '2020-02-26',\n",
       "  'descricao': 'COMPRA CARTAO MAESTRO              24/02 PANIFICADORA LA\\n \\t\\t\\t\\t\\t\\t',\n",
       "  'valor': '-6.46\\n \\t\\t\\t\\t\\t\\t\\t',\n",
       "  'referencia': '2020-02-26'},\n",
       " {'date': '2020-02-26',\n",
       "  'descricao': 'COMPRA CARTAO MAESTRO              26/02 JP JD CID UNIV\\n \\t\\t\\t\\t\\t\\t',\n",
       "  'valor': '-23.08\\n \\t\\t\\t\\t\\t\\t\\t',\n",
       "  'referencia': '2020-02-26'},\n",
       " {'date': '2020-02-26',\n",
       "  'descricao': 'COMPRA CARTAO MAESTRO              26/02 PANIFICADORA LA\\n \\t\\t\\t\\t\\t\\t',\n",
       "  'valor': '-11.20\\n \\t\\t\\t\\t\\t\\t\\t',\n",
       "  'referencia': '2020-02-26'}]"
      ]
     },
     "execution_count": 14,
     "metadata": {},
     "output_type": "execute_result"
    }
   ],
   "source": [
    "lista"
   ]
  },
  {
   "cell_type": "code",
   "execution_count": 15,
   "metadata": {},
   "outputs": [],
   "source": [
    "import json\n",
    "with open('../../tudo.json', 'w') as fout:\n",
    "    json.dump(lista , fout, indent=4)"
   ]
  },
  {
   "cell_type": "markdown",
   "metadata": {},
   "source": [
    "## Tarefa 02 Concluída"
   ]
  }
 ],
 "metadata": {
  "kernelspec": {
   "display_name": "Python 3",
   "language": "python",
   "name": "python3"
  },
  "language_info": {
   "codemirror_mode": {
    "name": "ipython",
    "version": 3
   },
   "file_extension": ".py",
   "mimetype": "text/x-python",
   "name": "python",
   "nbconvert_exporter": "python",
   "pygments_lexer": "ipython3",
   "version": "3.7.4"
  }
 },
 "nbformat": 4,
 "nbformat_minor": 2
}
