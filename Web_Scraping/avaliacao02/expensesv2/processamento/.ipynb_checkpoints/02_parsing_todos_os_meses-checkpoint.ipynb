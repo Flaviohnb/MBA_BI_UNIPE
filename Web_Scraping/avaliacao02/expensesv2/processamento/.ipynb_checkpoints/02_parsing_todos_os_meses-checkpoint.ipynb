{
 "cells": [
  {
   "cell_type": "markdown",
   "metadata": {},
   "source": [
    "## Captura e Visualização de dados"
   ]
  },
  {
   "cell_type": "markdown",
   "metadata": {},
   "source": [
    "<b>Professor:</b> Diénert Vieira\n",
    "<b>Telefone:</b> (83) 9 8182-1479\n",
    "<b>Email:</b> dienertalencar@gmail.com"
   ]
  },
  {
   "cell_type": "markdown",
   "metadata": {},
   "source": [
    "### Segunda avaliação de aprendizagem"
   ]
  },
  {
   "cell_type": "markdown",
   "metadata": {},
   "source": [
    "Agora que você aprendeu a fazer o parsing de um único arquivo, desenvolva um mecanismo que permita realizar o parsing de todos os meses do ano de 2019. Dessa forma você poderá analisar uma maior volume de dados e reaproveitar o código que já foi desenvovido nas tarefas anteriores."
   ]
  },
  {
   "cell_type": "markdown",
   "metadata": {},
   "source": [
    "### Tarefa 02\n",
    "#### Aproveite o que já fez e faça o parsing de todos os meses de 2019"
   ]
  },
  {
   "cell_type": "markdown",
   "metadata": {},
   "source": [
    "Importar a biblioteca do framework scrapy"
   ]
  },
  {
   "cell_type": "code",
   "execution_count": 37,
   "metadata": {},
   "outputs": [],
   "source": [
    "import scrapy\n",
    "import xml.etree.ElementTree"
   ]
  },
  {
   "cell_type": "markdown",
   "metadata": {},
   "source": [
    "Copiar o método extrair_transacao do exercício anterior"
   ]
  },
  {
   "cell_type": "code",
   "execution_count": 70,
   "metadata": {},
   "outputs": [],
   "source": [
    "def extrair_transacao(transacao_selector, referencia):\n",
    "    data = transacao_selector.css('dtposted::text').extract_first() \n",
    "    descricao = transacao_selector.css('memo::text').extract_first()  \n",
    "    taxa = None\n",
    "    valor = transacao_selector.css('trnamt::text').extract_first()\n",
    "    return {'date': data[0:4]+'-'+data[4:6]+'-'+data[6:8],\n",
    "            'descricao': descricao,\n",
    "            'valor': valor if taxa is None else round(float(valor)*float(taxa), ndigits=2),\n",
    "            'referencia': referencia}"
   ]
  },
  {
   "cell_type": "markdown",
   "metadata": {},
   "source": [
    "Copiar o processamento anterior à chamada do extrair_transacao e colocar no método parse_xml para ser chamado para cada arquivo do diretório de extratos do cartão ou da conta corrente"
   ]
  },
  {
   "cell_type": "code",
   "execution_count": 65,
   "metadata": {},
   "outputs": [],
   "source": [
    "def parse_xml(path):\n",
    "    ofx = open(path)\n",
    "    text = ofx.readlines()\n",
    "    text = ' '.join(text)\n",
    "    selector = scrapy.selector.Selector(text=text)\n",
    "    transacoes = selector.css('stmttrn')\n",
    "    referencia = selector.css('dtasof::text').extract_first()\n",
    "    referencia = referencia[0:4]+'-'+referencia[4:6]+'-'+referencia[6:8] if referencia else None\n",
    "    return [extrair_transacao(transacao, referencia) for transacao in transacoes]"
   ]
  },
  {
   "cell_type": "code",
   "execution_count": 50,
   "metadata": {},
   "outputs": [],
   "source": [
    "lista = []"
   ]
  },
  {
   "cell_type": "code",
   "execution_count": 51,
   "metadata": {
    "scrolled": false
   },
   "outputs": [],
   "source": [
    "pathCartao = '../../'\n",
    "pathConta = '../../'"
   ]
  },
  {
   "cell_type": "code",
   "execution_count": 52,
   "metadata": {},
   "outputs": [],
   "source": [
    "import os"
   ]
  },
  {
   "cell_type": "code",
   "execution_count": 53,
   "metadata": {},
   "outputs": [
    {
     "data": {
      "text/plain": [
       "['2018-04.ofx',\n",
       " 'av1_1.json',\n",
       " 'av1_2.json',\n",
       " 'avaliacao_1_1.py',\n",
       " 'avaliacao_1_2.py',\n",
       " 'conta.ofx',\n",
       " 'expensesv2',\n",
       " 'mes.json',\n",
       " 'teste.py',\n",
       " '__pycache__']"
      ]
     },
     "execution_count": 53,
     "metadata": {},
     "output_type": "execute_result"
    }
   ],
   "source": [
    "os.listdir(pathCartao)"
   ]
  },
  {
   "cell_type": "code",
   "execution_count": 54,
   "metadata": {},
   "outputs": [
    {
     "name": "stdout",
     "output_type": "stream",
     "text": [
      "['2018-04.ofx']\n",
      "../../2018-04.ofx\n"
     ]
    }
   ],
   "source": [
    "filesCartao = [file for file in os.listdir(pathCartao) if '18' in file or '20' in file]\n",
    "filesCartao.sort()\n",
    "filesCartao\n",
    "print(filesCartao)\n",
    "print(pathCartao+file)"
   ]
  },
  {
   "cell_type": "code",
   "execution_count": 71,
   "metadata": {
    "scrolled": true
   },
   "outputs": [
    {
     "name": "stdout",
     "output_type": "stream",
     "text": [
      "teste\n"
     ]
    },
    {
     "ename": "NameError",
     "evalue": "name 'taxa' is not defined",
     "output_type": "error",
     "traceback": [
      "\u001b[1;31m---------------------------------------------------------------------------\u001b[0m",
      "\u001b[1;31mNameError\u001b[0m                                 Traceback (most recent call last)",
      "\u001b[1;32m<ipython-input-71-8b28879a9799>\u001b[0m in \u001b[0;36m<module>\u001b[1;34m\u001b[0m\n\u001b[0;32m      1\u001b[0m \u001b[1;32mfor\u001b[0m \u001b[0mfile\u001b[0m \u001b[1;32min\u001b[0m \u001b[0mfilesCartao\u001b[0m\u001b[1;33m:\u001b[0m\u001b[1;33m\u001b[0m\u001b[1;33m\u001b[0m\u001b[0m\n\u001b[1;32m----> 2\u001b[1;33m     \u001b[0mlista\u001b[0m\u001b[1;33m.\u001b[0m\u001b[0mextend\u001b[0m\u001b[1;33m(\u001b[0m\u001b[0mparse_xml\u001b[0m\u001b[1;33m(\u001b[0m\u001b[0mpathCartao\u001b[0m\u001b[1;33m+\u001b[0m\u001b[0mfile\u001b[0m\u001b[1;33m)\u001b[0m\u001b[1;33m)\u001b[0m\u001b[1;33m\u001b[0m\u001b[1;33m\u001b[0m\u001b[0m\n\u001b[0m",
      "\u001b[1;32m<ipython-input-65-33d13bcf73f3>\u001b[0m in \u001b[0;36mparse_xml\u001b[1;34m(path)\u001b[0m\n\u001b[0;32m      7\u001b[0m     \u001b[0mreferencia\u001b[0m \u001b[1;33m=\u001b[0m \u001b[0mselector\u001b[0m\u001b[1;33m.\u001b[0m\u001b[0mcss\u001b[0m\u001b[1;33m(\u001b[0m\u001b[1;34m'dtasof::text'\u001b[0m\u001b[1;33m)\u001b[0m\u001b[1;33m.\u001b[0m\u001b[0mextract_first\u001b[0m\u001b[1;33m(\u001b[0m\u001b[1;33m)\u001b[0m\u001b[1;33m\u001b[0m\u001b[1;33m\u001b[0m\u001b[0m\n\u001b[0;32m      8\u001b[0m     \u001b[0mreferencia\u001b[0m \u001b[1;33m=\u001b[0m \u001b[0mreferencia\u001b[0m\u001b[1;33m[\u001b[0m\u001b[1;36m0\u001b[0m\u001b[1;33m:\u001b[0m\u001b[1;36m4\u001b[0m\u001b[1;33m]\u001b[0m\u001b[1;33m+\u001b[0m\u001b[1;34m'-'\u001b[0m\u001b[1;33m+\u001b[0m\u001b[0mreferencia\u001b[0m\u001b[1;33m[\u001b[0m\u001b[1;36m4\u001b[0m\u001b[1;33m:\u001b[0m\u001b[1;36m6\u001b[0m\u001b[1;33m]\u001b[0m\u001b[1;33m+\u001b[0m\u001b[1;34m'-'\u001b[0m\u001b[1;33m+\u001b[0m\u001b[0mreferencia\u001b[0m\u001b[1;33m[\u001b[0m\u001b[1;36m6\u001b[0m\u001b[1;33m:\u001b[0m\u001b[1;36m8\u001b[0m\u001b[1;33m]\u001b[0m \u001b[1;32mif\u001b[0m \u001b[0mreferencia\u001b[0m \u001b[1;32melse\u001b[0m \u001b[1;32mNone\u001b[0m\u001b[1;33m\u001b[0m\u001b[1;33m\u001b[0m\u001b[0m\n\u001b[1;32m----> 9\u001b[1;33m     \u001b[1;32mreturn\u001b[0m \u001b[1;33m[\u001b[0m\u001b[0mextrair_transacao\u001b[0m\u001b[1;33m(\u001b[0m\u001b[0mtransacao\u001b[0m\u001b[1;33m,\u001b[0m \u001b[0mreferencia\u001b[0m\u001b[1;33m)\u001b[0m \u001b[1;32mfor\u001b[0m \u001b[0mtransacao\u001b[0m \u001b[1;32min\u001b[0m \u001b[0mtransacoes\u001b[0m\u001b[1;33m]\u001b[0m\u001b[1;33m\u001b[0m\u001b[1;33m\u001b[0m\u001b[0m\n\u001b[0m",
      "\u001b[1;32m<ipython-input-65-33d13bcf73f3>\u001b[0m in \u001b[0;36m<listcomp>\u001b[1;34m(.0)\u001b[0m\n\u001b[0;32m      7\u001b[0m     \u001b[0mreferencia\u001b[0m \u001b[1;33m=\u001b[0m \u001b[0mselector\u001b[0m\u001b[1;33m.\u001b[0m\u001b[0mcss\u001b[0m\u001b[1;33m(\u001b[0m\u001b[1;34m'dtasof::text'\u001b[0m\u001b[1;33m)\u001b[0m\u001b[1;33m.\u001b[0m\u001b[0mextract_first\u001b[0m\u001b[1;33m(\u001b[0m\u001b[1;33m)\u001b[0m\u001b[1;33m\u001b[0m\u001b[1;33m\u001b[0m\u001b[0m\n\u001b[0;32m      8\u001b[0m     \u001b[0mreferencia\u001b[0m \u001b[1;33m=\u001b[0m \u001b[0mreferencia\u001b[0m\u001b[1;33m[\u001b[0m\u001b[1;36m0\u001b[0m\u001b[1;33m:\u001b[0m\u001b[1;36m4\u001b[0m\u001b[1;33m]\u001b[0m\u001b[1;33m+\u001b[0m\u001b[1;34m'-'\u001b[0m\u001b[1;33m+\u001b[0m\u001b[0mreferencia\u001b[0m\u001b[1;33m[\u001b[0m\u001b[1;36m4\u001b[0m\u001b[1;33m:\u001b[0m\u001b[1;36m6\u001b[0m\u001b[1;33m]\u001b[0m\u001b[1;33m+\u001b[0m\u001b[1;34m'-'\u001b[0m\u001b[1;33m+\u001b[0m\u001b[0mreferencia\u001b[0m\u001b[1;33m[\u001b[0m\u001b[1;36m6\u001b[0m\u001b[1;33m:\u001b[0m\u001b[1;36m8\u001b[0m\u001b[1;33m]\u001b[0m \u001b[1;32mif\u001b[0m \u001b[0mreferencia\u001b[0m \u001b[1;32melse\u001b[0m \u001b[1;32mNone\u001b[0m\u001b[1;33m\u001b[0m\u001b[1;33m\u001b[0m\u001b[0m\n\u001b[1;32m----> 9\u001b[1;33m     \u001b[1;32mreturn\u001b[0m \u001b[1;33m[\u001b[0m\u001b[0mextrair_transacao\u001b[0m\u001b[1;33m(\u001b[0m\u001b[0mtransacao\u001b[0m\u001b[1;33m,\u001b[0m \u001b[0mreferencia\u001b[0m\u001b[1;33m)\u001b[0m \u001b[1;32mfor\u001b[0m \u001b[0mtransacao\u001b[0m \u001b[1;32min\u001b[0m \u001b[0mtransacoes\u001b[0m\u001b[1;33m]\u001b[0m\u001b[1;33m\u001b[0m\u001b[1;33m\u001b[0m\u001b[0m\n\u001b[0m",
      "\u001b[1;32m<ipython-input-70-28c6efe56a53>\u001b[0m in \u001b[0;36mextrair_transacao\u001b[1;34m(transacao_selector, referencia)\u001b[0m\n\u001b[0;32m      6\u001b[0m     return {'date': data[0:4]+'-'+data[4:6]+'-'+data[6:8],\n\u001b[0;32m      7\u001b[0m             \u001b[1;34m'descricao'\u001b[0m\u001b[1;33m:\u001b[0m \u001b[0mdescricao\u001b[0m\u001b[1;33m,\u001b[0m\u001b[1;33m\u001b[0m\u001b[1;33m\u001b[0m\u001b[0m\n\u001b[1;32m----> 8\u001b[1;33m             \u001b[1;34m'valor'\u001b[0m\u001b[1;33m:\u001b[0m \u001b[0mvalor\u001b[0m \u001b[1;32mif\u001b[0m \u001b[0mtaxa\u001b[0m \u001b[1;32mis\u001b[0m \u001b[1;32mNone\u001b[0m \u001b[1;32melse\u001b[0m \u001b[0mround\u001b[0m\u001b[1;33m(\u001b[0m\u001b[0mfloat\u001b[0m\u001b[1;33m(\u001b[0m\u001b[0mvalor\u001b[0m\u001b[1;33m)\u001b[0m\u001b[1;33m*\u001b[0m\u001b[0mfloat\u001b[0m\u001b[1;33m(\u001b[0m\u001b[0mtaxa\u001b[0m\u001b[1;33m)\u001b[0m\u001b[1;33m,\u001b[0m \u001b[0mndigits\u001b[0m\u001b[1;33m=\u001b[0m\u001b[1;36m2\u001b[0m\u001b[1;33m)\u001b[0m\u001b[1;33m,\u001b[0m\u001b[1;33m\u001b[0m\u001b[1;33m\u001b[0m\u001b[0m\n\u001b[0m\u001b[0;32m      9\u001b[0m             'referencia': referencia}\n",
      "\u001b[1;31mNameError\u001b[0m: name 'taxa' is not defined"
     ]
    }
   ],
   "source": [
    "for file in filesCartao:\n",
    "    lista.extend(parse_xml(pathCartao+file))"
   ]
  },
  {
   "cell_type": "code",
   "execution_count": 69,
   "metadata": {},
   "outputs": [
    {
     "data": {
      "text/plain": [
       "[{'date': '2018-03-09',\n",
       "  'descricao': 'Repasse pagamento: 17223405 de Jorge Teixeira',\n",
       "  'valor': '74,40',\n",
       "  'referencia': '2018-04-29'},\n",
       " {'date': '2018-03-09',\n",
       "  'descricao': 'Tarifa repasse: 17223405 de Jorge Teixeira',\n",
       "  'valor': '-3,34',\n",
       "  'referencia': '2018-04-29'},\n",
       " {'date': '2018-03-20',\n",
       "  'descricao': 'Repasse pagamento: 22612776 de Paulo Jorge Alves',\n",
       "  'valor': '74,40',\n",
       "  'referencia': '2018-04-29'},\n",
       " {'date': '2018-03-20',\n",
       "  'descricao': 'Tarifa repasse: 22612776 de Paulo Jorge Alves',\n",
       "  'valor': '-3,34',\n",
       "  'referencia': '2018-04-29'},\n",
       " {'date': '2018-03-30',\n",
       "  'descricao': 'Repasse pagamento: 28015595 de Fulano Aguiar',\n",
       "  'valor': '74,40',\n",
       "  'referencia': '2018-04-29'},\n",
       " {'date': '2018-03-30',\n",
       "  'descricao': 'Tarifa repasse: 28015595 de Fulano Aguiar',\n",
       "  'valor': '-3,34',\n",
       "  'referencia': '2018-04-29'},\n",
       " {'date': '2018-04-06',\n",
       "  'descricao': 'Repasse pagamento: 28108174 de Ciclano da Silva',\n",
       "  'valor': '65,10',\n",
       "  'referencia': '2018-04-29'},\n",
       " {'date': '2018-04-06',\n",
       "  'descricao': 'Tarifa repasse: 28108174 de Ciclano da Silva',\n",
       "  'valor': '-3,34',\n",
       "  'referencia': '2018-04-29'},\n",
       " {'date': '2018-04-16',\n",
       "  'descricao': 'Repasse pagamento: 29384993 de Jorge Amado',\n",
       "  'valor': '74,40',\n",
       "  'referencia': '2018-04-29'},\n",
       " {'date': '2018-04-16',\n",
       "  'descricao': 'Tarifa repasse: 29384993 de Jorge Amado',\n",
       "  'valor': '-3,34',\n",
       "  'referencia': '2018-04-29'},\n",
       " {'date': '2018-04-17',\n",
       "  'descricao': 'Repasse pagamento: 29447637 de Pedro Jorge',\n",
       "  'valor': '55,80',\n",
       "  'referencia': '2018-04-29'},\n",
       " {'date': '2018-04-17',\n",
       "  'descricao': 'Tarifa repasse: 29447637 de Pedro Jorge',\n",
       "  'valor': '-3,34',\n",
       "  'referencia': '2018-04-29'},\n",
       " {'date': '2018-04-28',\n",
       "  'descricao': 'Repasse pagamento: 29517140 de Beltrano Diniz',\n",
       "  'valor': '120,90',\n",
       "  'referencia': '2018-04-29'},\n",
       " {'date': '2018-04-28',\n",
       "  'descricao': 'Tarifa repasse: 29517140 de Beltrano Diniz',\n",
       "  'valor': '-7,23',\n",
       "  'referencia': '2018-04-29'},\n",
       " {'date': '2018-04-29',\n",
       "  'descricao': 'Repasse pagamento: 29533821 de Henrique Almeida',\n",
       "  'valor': '55,80',\n",
       "  'referencia': '2018-04-29'},\n",
       " {'date': '2018-04-29',\n",
       "  'descricao': 'Tarifa repasse: 29533821 de Henrique Almeida',\n",
       "  'valor': '-3,49',\n",
       "  'referencia': '2018-04-29'},\n",
       " {'date': '2018-04-29',\n",
       "  'descricao': 'Repasse pagamento: 30830691 de Duque Alves',\n",
       "  'valor': '74,40',\n",
       "  'referencia': '2018-04-29'},\n",
       " {'date': '2018-04-29',\n",
       "  'descricao': 'Tarifa repasse: 30830691 de Duque Alves',\n",
       "  'valor': '-3,34',\n",
       "  'referencia': '2018-04-29'}]"
      ]
     },
     "execution_count": 69,
     "metadata": {},
     "output_type": "execute_result"
    }
   ],
   "source": [
    "lista"
   ]
  },
  {
   "cell_type": "code",
   "execution_count": 57,
   "metadata": {},
   "outputs": [
    {
     "data": {
      "text/plain": [
       "['conta.ofx']"
      ]
     },
     "execution_count": 57,
     "metadata": {},
     "output_type": "execute_result"
    }
   ],
   "source": [
    "filesConta = [file for file in os.listdir(pathConta) if 'conta' in file]\n",
    "filesConta"
   ]
  },
  {
   "cell_type": "code",
   "execution_count": 66,
   "metadata": {},
   "outputs": [],
   "source": [
    "for file in filesConta:\n",
    "    lista.extend(parse_xml(pathConta+file))"
   ]
  },
  {
   "cell_type": "code",
   "execution_count": 67,
   "metadata": {},
   "outputs": [
    {
     "data": {
      "text/plain": [
       "[]"
      ]
     },
     "execution_count": 67,
     "metadata": {},
     "output_type": "execute_result"
    }
   ],
   "source": [
    "lista"
   ]
  },
  {
   "cell_type": "code",
   "execution_count": null,
   "metadata": {},
   "outputs": [],
   "source": [
    "import json\n",
    "with open('../dados/tudo.json', 'w') as fout:\n",
    "    json.dump(lista , fout, indent=4)"
   ]
  },
  {
   "cell_type": "markdown",
   "metadata": {},
   "source": [
    "## Tarefa 02 Concluída"
   ]
  }
 ],
 "metadata": {
  "kernelspec": {
   "display_name": "Python 3",
   "language": "python",
   "name": "python3"
  },
  "language_info": {
   "codemirror_mode": {
    "name": "ipython",
    "version": 3
   },
   "file_extension": ".py",
   "mimetype": "text/x-python",
   "name": "python",
   "nbconvert_exporter": "python",
   "pygments_lexer": "ipython3",
   "version": "3.7.4"
  }
 },
 "nbformat": 4,
 "nbformat_minor": 2
}
